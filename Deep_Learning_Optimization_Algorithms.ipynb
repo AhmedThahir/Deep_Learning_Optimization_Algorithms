{
  "cells": [
    {
      "cell_type": "markdown",
      "metadata": {
        "id": "JGJmy4WfF2Gv"
      },
      "source": [
        "# Import"
      ]
    },
    {
      "cell_type": "code",
      "execution_count": 1277,
      "metadata": {
        "id": "1eFy1CA4h0_D"
      },
      "outputs": [],
      "source": [
        "import torch\n",
        "import torch.nn as nn\n",
        "from torch.optim import SGD\n",
        "from torch.utils.data import Dataset, DataLoader, RandomSampler, random_split\n",
        "\n",
        "# import torchvision\n",
        "import numpy as np\n",
        "import pandas as pd\n",
        "import matplotlib.pyplot as plt\n",
        "import plotly.express as px"
      ]
    },
    {
      "cell_type": "markdown",
      "metadata": {
        "id": "Xsz0LVrxF4di"
      },
      "source": [
        "## Import Data"
      ]
    },
    {
      "cell_type": "code",
      "execution_count": 1278,
      "metadata": {
        "id": "bkdItIMiiCz2"
      },
      "outputs": [],
      "source": [
        "class CTDataset(Dataset):\n",
        "    def __init__(self, filepath):\n",
        "        self.x, self.y = torch.load(filepath)\n",
        "        self.x = self.x / 255.0\n",
        "        self.y = nn.functional.one_hot(self.y, num_classes=10).to(float)\n",
        "\n",
        "    def __len__(self):\n",
        "        return self.x.shape[0]\n",
        "\n",
        "    def __getitem__(self, ix):\n",
        "        return self.x[ix], self.y[ix]"
      ]
    },
    {
      "cell_type": "code",
      "execution_count": 1279,
      "metadata": {
        "id": "dN6t_BjqiccL"
      },
      "outputs": [],
      "source": [
        "# https://www.di.ens.fr/~lelarge/MNIST.tar.gz\n",
        "train_ds = CTDataset(\"./MNIST/training.pt\")\n",
        "# test_ds = CTDataset('./MNIST/test.pt')"
      ]
    },
    {
      "cell_type": "code",
      "execution_count": 1280,
      "metadata": {},
      "outputs": [],
      "source": [
        "train, dev, valid = random_split(train_ds, [0.6, 0.2, 0.2])"
      ]
    },
    {
      "cell_type": "code",
      "execution_count": 1281,
      "metadata": {
        "id": "IpE8pgZtit4e"
      },
      "outputs": [],
      "source": [
        "train_size = min(10_000, len(train)) # Check if model overfits on small data, to ensure DNN actually is effective\n",
        "dev_size = min(10_000, len(dev))\n",
        "\n",
        "min_training_batches = 4\n",
        "evaluation_batch_size = min(1_024, dev_size)\n",
        "\n",
        "train_batch_size = min(32, max(1, train_size // min_training_batches))"
      ]
    },
    {
      "cell_type": "code",
      "execution_count": 1282,
      "metadata": {},
      "outputs": [],
      "source": [
        "train_random_sampler = RandomSampler(train, num_samples=train_size)\n",
        "dev_random_sampler = RandomSampler(dev, num_samples=dev_size)\n",
        "\n",
        "train_dl = DataLoader(\n",
        "    train, sampler=train_random_sampler, batch_size=train_batch_size, drop_last=True\n",
        ")\n",
        "\n",
        "dev_dl = DataLoader(\n",
        "    dev, sampler=dev_random_sampler, batch_size=evaluation_batch_size, drop_last=True\n",
        ")"
      ]
    },
    {
      "cell_type": "markdown",
      "metadata": {
        "id": "IihBqwgWi2Uo"
      },
      "source": [
        "## Train"
      ]
    },
    {
      "cell_type": "code",
      "execution_count": 1283,
      "metadata": {},
      "outputs": [],
      "source": [
        "class NeuralNet(nn.Module):\n",
        "\tdef __init__(self, init_dl):\n",
        "\t\tsuper().__init__()\n",
        "\n",
        "\t\tfor x, y in init_dl:\n",
        "\t\t\tbreak\n",
        "\n",
        "\t\tself.input_size = x.shape[-1]\n",
        "\t\tself.output_size = y.shape[-1]\n",
        "\n",
        "\t\tinput_layer = nn.Flatten()\n",
        "\t\t\n",
        "\t\thidden_layers = [\n",
        "\t\t\tnn.LazyLinear(100),\n",
        "\t\t\tnn.ReLU(),\n",
        "\t\t\tnn.LazyLinear(10),\n",
        "\t\t\tnn.ReLU()\n",
        "\t\t\t# nn.Sigmoid() not required\n",
        "\t\t]\n",
        "\t\t\n",
        "\t\toutput_layer = nn.LazyLinear(self.output_size) # output layer\n",
        "\t\t\n",
        "\t\tlayers = [input_layer] + hidden_layers + [output_layer]\n",
        "\t\tself.network = nn.Sequential(\n",
        "\t\t\t*layers\n",
        "\t\t)\n",
        "\n",
        "\t\t# init lazy layers\n",
        "\t\tself.forward(x)\n",
        "\n",
        "\tdef reshape(self, x):\n",
        "\t\t# batch_size, no_of_channels, width, height\n",
        "\t\treturn x.view(x.shape[0], 1, x.shape[1], x.shape[2])\n",
        "\n",
        "\tdef forward(self, x):\n",
        "\t\treturn self.network(self.reshape(x)).squeeze()"
      ]
    },
    {
      "cell_type": "code",
      "execution_count": 1284,
      "metadata": {},
      "outputs": [],
      "source": [
        "def get_max_len(arrays):\n",
        "\treturn max(\n",
        "\t\t[\n",
        "\t\t\tlen(array)\n",
        "\t\t\tfor array\n",
        "\t\t\tin arrays\n",
        "\t\t]\n",
        "\t)\n",
        "\n",
        "def pad(array, max_len):\n",
        "\treturn list(np.pad(\n",
        "\t\tarray,\n",
        "\t\tpad_width = (0, max_len-len(array)),\n",
        "\t\tconstant_values = np.nan\n",
        "\t))\n",
        "\n",
        "# @torch.compile(mode=\"reduce-overhead\")\n",
        "def train_batch(model, optimizer, loss, x, y, train_dl_len, batch_idx, accum_iter=1, k_frac=None):\n",
        "\t# x = x.half()\n",
        "\t# y = y.half()\n",
        "\t\n",
        "\tmodel.train()\n",
        "\twith torch.set_grad_enabled(True): # turn on history tracking\n",
        "\t\t# forward pass\n",
        "\t\tproba = model(x)\n",
        "\t\tloss_array = loss(proba, y)\n",
        "\n",
        "\t\tloss_scalar = loss_array.mean()\n",
        "\t\n",
        "\t# backward pass\n",
        "\toptimizer.zero_grad(set_to_none=True)\n",
        "\tloss_scalar.backward()\n",
        "\n",
        "\t# weights update\n",
        "\t# if accum_iter != 1 -> gradient accumulation\n",
        "\tbatch_num = batch_idx + 1\n",
        "\tif (\n",
        "\t\t(batch_num % accum_iter == 0)\n",
        "\t\tor\n",
        "\t\t(batch_num == len(train_dl_len))\n",
        "\t):\n",
        "\t\toptimizer.step()\n",
        "\n",
        "# @torch.compile(mode=\"reduce-overhead\")\n",
        "def train_epoch(dl, model, optimizer, loss, train_dl_len, k_frac=None):\n",
        "\n",
        "\tepoch_accuracies = []\n",
        "\tfor batch_idx, (x, y) in enumerate(dl):\n",
        "\t\ttrain_batch(model, optimizer, loss, x, y, train_dl_len, batch_idx, accum_iter=1, k_frac=k_frac)\n",
        "\t\n",
        "\t\tepoch_accuracies += eval_batch(model, x, y)\n",
        "\n",
        "\treturn epoch_accuracies\n",
        "\n",
        "# @torch.compile(mode=\"reduce-overhead\")\n",
        "def eval_batch(model, x, y):\n",
        "\t# x = x.half()\n",
        "\t# y = y.half()\n",
        "\n",
        "\tmodel.eval()\n",
        "\twith torch.set_grad_enabled(False): # turn off history tracking\n",
        "\t\t# forward pass\n",
        "\t\tproba = model(x)\n",
        "\t\t\n",
        "\t\ttrue = y.argmax(axis=1)\n",
        "\t\tpred = proba.argmax(axis=1)\n",
        "\n",
        "\t\tepoch_accuracy_array = pred == true # torch.sum()\n",
        "\n",
        "\t\t# epoch_loss_array = loss_value.detach() # loss_value.item() # batch loss\n",
        "\n",
        "\t\treturn epoch_accuracy_array\n",
        "\n",
        "# @torch.compile(mode=\"reduce-overhead\")\n",
        "def eval_epoch(dl, model):\n",
        "\tepoch_accuracies = []\n",
        "\tfor batch_idx, (x, y) in enumerate(dl):\n",
        "\t\tepoch_accuracies += eval_batch(model, x, y)\n",
        "\n",
        "\treturn epoch_accuracies\n",
        "\n",
        "\n",
        "def train_model(train_dl, dev_dl, model, loss, optimizer, n_epochs, k_frac=None, agg=None):\n",
        "\tmodel.train()\n",
        "  \n",
        "\ttrain_accuracies = []\n",
        "\tdev_accuracies = []\n",
        "\tepochs = []\n",
        "  \n",
        "\ttrain_dl_len = len(train_dl)\n",
        "\n",
        "\tfor epoch in range(1, n_epochs + 1):\n",
        "\t\tepoch_train_accuracies = train_epoch(train_dl, model, optimizer, loss, train_dl_len, k_frac)\n",
        "\t\tepoch_dev_accuracies = eval_epoch(dev_dl, model)\n",
        "  \n",
        "\t\tmax_len = get_max_len([\n",
        "\t\t\tepoch_train_accuracies, epoch_dev_accuracies\n",
        "\t\t])\n",
        "\t\tepoch_train_accuracies = pad(epoch_train_accuracies, max_len)\n",
        "\t\tepoch_dev_accuracies = pad(epoch_dev_accuracies, max_len)\n",
        "  \n",
        "\t\tepochs += [epoch] * max_len\n",
        "\t\ttrain_accuracies += epoch_train_accuracies\n",
        "\t\tdev_accuracies += epoch_dev_accuracies\n",
        "\n",
        "\t\tprint(f\"Epoch {epoch}/{n_epochs} Completed\")\n",
        "\n",
        "\tmodel.eval()\n",
        "\n",
        "\tsummary = pd.DataFrame().assign(\n",
        "\t\tEpoch = epochs, # torch.Tensor(epochs),\n",
        "\t\tTrain_Accuracy = train_accuracies, # torch.Tensor(train_accuracies),\n",
        "\t\tDev_Accuracy = dev_accuracies, # torch.Tensor(dev_accuracies),\n",
        "\t)\n",
        " \n",
        "\tif agg:\n",
        "\t\tsummary = (\n",
        "\t\t\tsummary\n",
        "\t\t\t.groupby(\"Epoch\")\n",
        "\t\t\t.agg(agg)\n",
        "\t\t)\n",
        "\t\tsummary.columns = list(map('_'.join, summary.columns.values))\n",
        "\t\tsummary = summary.reset_index()\n",
        "\treturn summary"
      ]
    },
    {
      "cell_type": "code",
      "execution_count": 1285,
      "metadata": {},
      "outputs": [
        {
          "name": "stderr",
          "output_type": "stream",
          "text": [
            "/Users/ahmedthahir/anaconda3/lib/python3.11/site-packages/torch/nn/modules/lazy.py:181: UserWarning:\n",
            "\n",
            "Lazy modules are a new feature under heavy development so changes to the API or functionality can happen at any moment.\n",
            "\n"
          ]
        }
      ],
      "source": [
        "model = NeuralNet(train_dl)\n",
        "# model = model.half()\n",
        "# model = torch.compile(model, mode=\"reduce-overhead\")"
      ]
    },
    {
      "cell_type": "code",
      "execution_count": 1286,
      "metadata": {
        "colab": {
          "base_uri": "https://localhost:8080/"
        },
        "id": "E3KjIGK-vui4",
        "outputId": "8f0377b2-7c7d-4145-f46e-0710bcb24631"
      },
      "outputs": [
        {
          "name": "stdout",
          "output_type": "stream",
          "text": [
            "ASGD (\n",
            "Parameter Group 0\n",
            "    alpha: 0.75\n",
            "    capturable: False\n",
            "    differentiable: False\n",
            "    foreach: None\n",
            "    lambd: 0.0001\n",
            "    lr: 0.01\n",
            "    maximize: False\n",
            "    t0: 1000000.0\n",
            "    weight_decay: 0\n",
            ")\n",
            "Adadelta (\n",
            "Parameter Group 0\n",
            "    differentiable: False\n",
            "    eps: 1e-06\n",
            "    foreach: None\n",
            "    lr: 0.01\n",
            "    maximize: False\n",
            "    rho: 0.9\n",
            "    weight_decay: 0\n",
            ")\n",
            "Adagrad (\n",
            "Parameter Group 0\n",
            "    differentiable: False\n",
            "    eps: 1e-10\n",
            "    foreach: None\n",
            "    initial_accumulator_value: 0\n",
            "    lr: 0.01\n",
            "    lr_decay: 0\n",
            "    maximize: False\n",
            "    weight_decay: 0\n",
            ")\n",
            "Adam (\n",
            "Parameter Group 0\n",
            "    amsgrad: False\n",
            "    betas: (0.9, 0.999)\n",
            "    capturable: False\n",
            "    differentiable: False\n",
            "    eps: 1e-08\n",
            "    foreach: None\n",
            "    fused: None\n",
            "    lr: 0.01\n",
            "    maximize: False\n",
            "    weight_decay: 0\n",
            ")\n",
            "AdamW (\n",
            "Parameter Group 0\n",
            "    amsgrad: False\n",
            "    betas: (0.9, 0.999)\n",
            "    capturable: False\n",
            "    differentiable: False\n",
            "    eps: 1e-08\n",
            "    foreach: None\n",
            "    fused: None\n",
            "    lr: 0.01\n",
            "    maximize: False\n",
            "    weight_decay: 0.01\n",
            ")\n",
            "Adamax (\n",
            "Parameter Group 0\n",
            "    betas: (0.9, 0.999)\n",
            "    differentiable: False\n",
            "    eps: 1e-08\n",
            "    foreach: None\n",
            "    lr: 0.01\n",
            "    maximize: False\n",
            "    weight_decay: 0\n",
            ")\n",
            "LBFGS (\n",
            "Parameter Group 0\n",
            "    history_size: 100\n",
            "    line_search_fn: None\n",
            "    lr: 0.01\n",
            "    max_eval: 25\n",
            "    max_iter: 20\n",
            "    tolerance_change: 1e-09\n",
            "    tolerance_grad: 1e-07\n",
            ")\n",
            "NAdam (\n",
            "Parameter Group 0\n",
            "    betas: (0.9, 0.999)\n",
            "    capturable: False\n",
            "    decoupled_weight_decay: False\n",
            "    differentiable: False\n",
            "    eps: 1e-08\n",
            "    foreach: None\n",
            "    lr: 0.01\n",
            "    momentum_decay: 0.004\n",
            "    weight_decay: 0\n",
            ")\n",
            "RAdam (\n",
            "Parameter Group 0\n",
            "    betas: (0.9, 0.999)\n",
            "    decoupled_weight_decay: False\n",
            "    differentiable: False\n",
            "    eps: 1e-08\n",
            "    foreach: None\n",
            "    lr: 0.01\n",
            "    weight_decay: 0\n",
            ")\n",
            "RMSprop (\n",
            "Parameter Group 0\n",
            "    alpha: 0.99\n",
            "    centered: False\n",
            "    differentiable: False\n",
            "    eps: 1e-08\n",
            "    foreach: None\n",
            "    lr: 0.01\n",
            "    maximize: False\n",
            "    momentum: 0\n",
            "    weight_decay: 0\n",
            ")\n",
            "Rprop (\n",
            "Parameter Group 0\n",
            "    differentiable: False\n",
            "    etas: (0.5, 1.2)\n",
            "    foreach: None\n",
            "    lr: 0.01\n",
            "    maximize: False\n",
            "    step_sizes: (1e-06, 50)\n",
            ")\n",
            "SGD (\n",
            "Parameter Group 0\n",
            "    dampening: 0\n",
            "    differentiable: False\n",
            "    foreach: None\n",
            "    lr: 0.01\n",
            "    maximize: False\n",
            "    momentum: 0\n",
            "    nesterov: False\n",
            "    weight_decay: 0\n",
            ")\n",
            "SparseAdam (\n",
            "Parameter Group 0\n",
            "    betas: (0.9, 0.999)\n",
            "    eps: 1e-08\n",
            "    lr: 0.01\n",
            "    maximize: False\n",
            ")\n"
          ]
        }
      ],
      "source": [
        "optim_class = torch.optim\n",
        "optim_children = dir(optim_class)\n",
        "no_of_optimizers = [o.startswith(\"_\") for o in optim_children].index(True)\n",
        "optimizers = optim_children[:no_of_optimizers]\n",
        "optimizers = [o for o in optimizers if o != \"Optimizer\"]\n",
        "\n",
        "for optimizer in optimizers:\n",
        "    print(getattr(optim_class, optimizer)(model.parameters(), lr=0.01))"
      ]
    },
    {
      "cell_type": "code",
      "execution_count": 1287,
      "metadata": {
        "id": "lviatQ8QjDV-"
      },
      "outputs": [],
      "source": [
        "loss = nn.CrossEntropyLoss(reduction=\"none\")"
      ]
    },
    {
      "cell_type": "code",
      "execution_count": 1288,
      "metadata": {
        "id": "5TfbZV-3vyT3"
      },
      "outputs": [],
      "source": [
        "# this is our project\n",
        "optimizer = SGD(model.parameters(), lr=0.1)\n",
        "n_epochs = 5"
      ]
    },
    {
      "cell_type": "code",
      "execution_count": 1289,
      "metadata": {
        "id": "j2A-uSGajLO0"
      },
      "outputs": [
        {
          "name": "stdout",
          "output_type": "stream",
          "text": [
            "Epoch 1/5 Completed\n",
            "Epoch 2/5 Completed\n",
            "Epoch 3/5 Completed\n",
            "Epoch 4/5 Completed\n",
            "Epoch 5/5 Completed\n"
          ]
        }
      ],
      "source": [
        "summary = train_model(\n",
        "    train_dl,\n",
        "    dev_dl,\n",
        "    model,\n",
        "    loss,\n",
        "    optimizer,\n",
        "    n_epochs,\n",
        "    agg = [\"mean\"]\n",
        ")"
      ]
    },
    {
      "cell_type": "code",
      "execution_count": 1290,
      "metadata": {
        "id": "w1oYUM9rrzTX"
      },
      "outputs": [
        {
          "data": {
            "application/vnd.plotly.v1+json": {
              "config": {
                "plotlyServerURL": "https://plot.ly"
              },
              "data": [
                {
                  "hovertemplate": "variable=Train_Accuracy_mean<br>Epoch=%{x}<br>value=%{y}<extra></extra>",
                  "legendgroup": "Train_Accuracy_mean",
                  "line": {
                    "color": "#636efa",
                    "dash": "solid",
                    "width": 1
                  },
                  "marker": {
                    "size": 5,
                    "symbol": "circle"
                  },
                  "mode": "lines+markers",
                  "name": "Train_Accuracy_mean",
                  "orientation": "v",
                  "showlegend": true,
                  "type": "scatter",
                  "x": [
                    1,
                    2,
                    3,
                    4,
                    5
                  ],
                  "xaxis": "x",
                  "y": [
                    74.6895032051282,
                    94.36097756410257,
                    96.73477564102564,
                    97.80649038461539,
                    98.57772435897436
                  ],
                  "yaxis": "y"
                },
                {
                  "hovertemplate": "variable=Dev_Accuracy_mean<br>Epoch=%{x}<br>value=%{y}<extra></extra>",
                  "legendgroup": "Dev_Accuracy_mean",
                  "line": {
                    "color": "#EF553B",
                    "dash": "solid",
                    "width": 1
                  },
                  "marker": {
                    "size": 5,
                    "symbol": "circle"
                  },
                  "mode": "lines+markers",
                  "name": "Dev_Accuracy_mean",
                  "orientation": "v",
                  "showlegend": true,
                  "type": "scatter",
                  "x": [
                    1,
                    2,
                    3,
                    4,
                    5
                  ],
                  "xaxis": "x",
                  "y": [
                    86.14783653846155,
                    91.39623397435898,
                    92.4979967948718,
                    92.52804487179486,
                    94.85176282051282
                  ],
                  "yaxis": "y"
                }
              ],
              "layout": {
                "legend": {
                  "title": {
                    "text": "variable"
                  },
                  "tracegroupgap": 0
                },
                "template": {
                  "data": {
                    "bar": [
                      {
                        "error_x": {
                          "color": "#2a3f5f"
                        },
                        "error_y": {
                          "color": "#2a3f5f"
                        },
                        "marker": {
                          "line": {
                            "color": "#E5ECF6",
                            "width": 0.5
                          },
                          "pattern": {
                            "fillmode": "overlay",
                            "size": 10,
                            "solidity": 0.2
                          }
                        },
                        "type": "bar"
                      }
                    ],
                    "barpolar": [
                      {
                        "marker": {
                          "line": {
                            "color": "#E5ECF6",
                            "width": 0.5
                          },
                          "pattern": {
                            "fillmode": "overlay",
                            "size": 10,
                            "solidity": 0.2
                          }
                        },
                        "type": "barpolar"
                      }
                    ],
                    "carpet": [
                      {
                        "aaxis": {
                          "endlinecolor": "#2a3f5f",
                          "gridcolor": "white",
                          "linecolor": "white",
                          "minorgridcolor": "white",
                          "startlinecolor": "#2a3f5f"
                        },
                        "baxis": {
                          "endlinecolor": "#2a3f5f",
                          "gridcolor": "white",
                          "linecolor": "white",
                          "minorgridcolor": "white",
                          "startlinecolor": "#2a3f5f"
                        },
                        "type": "carpet"
                      }
                    ],
                    "choropleth": [
                      {
                        "colorbar": {
                          "outlinewidth": 0,
                          "ticks": ""
                        },
                        "type": "choropleth"
                      }
                    ],
                    "contour": [
                      {
                        "colorbar": {
                          "outlinewidth": 0,
                          "ticks": ""
                        },
                        "colorscale": [
                          [
                            0,
                            "#0d0887"
                          ],
                          [
                            0.1111111111111111,
                            "#46039f"
                          ],
                          [
                            0.2222222222222222,
                            "#7201a8"
                          ],
                          [
                            0.3333333333333333,
                            "#9c179e"
                          ],
                          [
                            0.4444444444444444,
                            "#bd3786"
                          ],
                          [
                            0.5555555555555556,
                            "#d8576b"
                          ],
                          [
                            0.6666666666666666,
                            "#ed7953"
                          ],
                          [
                            0.7777777777777778,
                            "#fb9f3a"
                          ],
                          [
                            0.8888888888888888,
                            "#fdca26"
                          ],
                          [
                            1,
                            "#f0f921"
                          ]
                        ],
                        "type": "contour"
                      }
                    ],
                    "contourcarpet": [
                      {
                        "colorbar": {
                          "outlinewidth": 0,
                          "ticks": ""
                        },
                        "type": "contourcarpet"
                      }
                    ],
                    "heatmap": [
                      {
                        "colorbar": {
                          "outlinewidth": 0,
                          "ticks": ""
                        },
                        "colorscale": [
                          [
                            0,
                            "#0d0887"
                          ],
                          [
                            0.1111111111111111,
                            "#46039f"
                          ],
                          [
                            0.2222222222222222,
                            "#7201a8"
                          ],
                          [
                            0.3333333333333333,
                            "#9c179e"
                          ],
                          [
                            0.4444444444444444,
                            "#bd3786"
                          ],
                          [
                            0.5555555555555556,
                            "#d8576b"
                          ],
                          [
                            0.6666666666666666,
                            "#ed7953"
                          ],
                          [
                            0.7777777777777778,
                            "#fb9f3a"
                          ],
                          [
                            0.8888888888888888,
                            "#fdca26"
                          ],
                          [
                            1,
                            "#f0f921"
                          ]
                        ],
                        "type": "heatmap"
                      }
                    ],
                    "heatmapgl": [
                      {
                        "colorbar": {
                          "outlinewidth": 0,
                          "ticks": ""
                        },
                        "colorscale": [
                          [
                            0,
                            "#0d0887"
                          ],
                          [
                            0.1111111111111111,
                            "#46039f"
                          ],
                          [
                            0.2222222222222222,
                            "#7201a8"
                          ],
                          [
                            0.3333333333333333,
                            "#9c179e"
                          ],
                          [
                            0.4444444444444444,
                            "#bd3786"
                          ],
                          [
                            0.5555555555555556,
                            "#d8576b"
                          ],
                          [
                            0.6666666666666666,
                            "#ed7953"
                          ],
                          [
                            0.7777777777777778,
                            "#fb9f3a"
                          ],
                          [
                            0.8888888888888888,
                            "#fdca26"
                          ],
                          [
                            1,
                            "#f0f921"
                          ]
                        ],
                        "type": "heatmapgl"
                      }
                    ],
                    "histogram": [
                      {
                        "marker": {
                          "pattern": {
                            "fillmode": "overlay",
                            "size": 10,
                            "solidity": 0.2
                          }
                        },
                        "type": "histogram"
                      }
                    ],
                    "histogram2d": [
                      {
                        "colorbar": {
                          "outlinewidth": 0,
                          "ticks": ""
                        },
                        "colorscale": [
                          [
                            0,
                            "#0d0887"
                          ],
                          [
                            0.1111111111111111,
                            "#46039f"
                          ],
                          [
                            0.2222222222222222,
                            "#7201a8"
                          ],
                          [
                            0.3333333333333333,
                            "#9c179e"
                          ],
                          [
                            0.4444444444444444,
                            "#bd3786"
                          ],
                          [
                            0.5555555555555556,
                            "#d8576b"
                          ],
                          [
                            0.6666666666666666,
                            "#ed7953"
                          ],
                          [
                            0.7777777777777778,
                            "#fb9f3a"
                          ],
                          [
                            0.8888888888888888,
                            "#fdca26"
                          ],
                          [
                            1,
                            "#f0f921"
                          ]
                        ],
                        "type": "histogram2d"
                      }
                    ],
                    "histogram2dcontour": [
                      {
                        "colorbar": {
                          "outlinewidth": 0,
                          "ticks": ""
                        },
                        "colorscale": [
                          [
                            0,
                            "#0d0887"
                          ],
                          [
                            0.1111111111111111,
                            "#46039f"
                          ],
                          [
                            0.2222222222222222,
                            "#7201a8"
                          ],
                          [
                            0.3333333333333333,
                            "#9c179e"
                          ],
                          [
                            0.4444444444444444,
                            "#bd3786"
                          ],
                          [
                            0.5555555555555556,
                            "#d8576b"
                          ],
                          [
                            0.6666666666666666,
                            "#ed7953"
                          ],
                          [
                            0.7777777777777778,
                            "#fb9f3a"
                          ],
                          [
                            0.8888888888888888,
                            "#fdca26"
                          ],
                          [
                            1,
                            "#f0f921"
                          ]
                        ],
                        "type": "histogram2dcontour"
                      }
                    ],
                    "mesh3d": [
                      {
                        "colorbar": {
                          "outlinewidth": 0,
                          "ticks": ""
                        },
                        "type": "mesh3d"
                      }
                    ],
                    "parcoords": [
                      {
                        "line": {
                          "colorbar": {
                            "outlinewidth": 0,
                            "ticks": ""
                          }
                        },
                        "type": "parcoords"
                      }
                    ],
                    "pie": [
                      {
                        "automargin": true,
                        "type": "pie"
                      }
                    ],
                    "scatter": [
                      {
                        "fillpattern": {
                          "fillmode": "overlay",
                          "size": 10,
                          "solidity": 0.2
                        },
                        "type": "scatter"
                      }
                    ],
                    "scatter3d": [
                      {
                        "line": {
                          "colorbar": {
                            "outlinewidth": 0,
                            "ticks": ""
                          }
                        },
                        "marker": {
                          "colorbar": {
                            "outlinewidth": 0,
                            "ticks": ""
                          }
                        },
                        "type": "scatter3d"
                      }
                    ],
                    "scattercarpet": [
                      {
                        "marker": {
                          "colorbar": {
                            "outlinewidth": 0,
                            "ticks": ""
                          }
                        },
                        "type": "scattercarpet"
                      }
                    ],
                    "scattergeo": [
                      {
                        "marker": {
                          "colorbar": {
                            "outlinewidth": 0,
                            "ticks": ""
                          }
                        },
                        "type": "scattergeo"
                      }
                    ],
                    "scattergl": [
                      {
                        "marker": {
                          "colorbar": {
                            "outlinewidth": 0,
                            "ticks": ""
                          }
                        },
                        "type": "scattergl"
                      }
                    ],
                    "scattermapbox": [
                      {
                        "marker": {
                          "colorbar": {
                            "outlinewidth": 0,
                            "ticks": ""
                          }
                        },
                        "type": "scattermapbox"
                      }
                    ],
                    "scatterpolar": [
                      {
                        "marker": {
                          "colorbar": {
                            "outlinewidth": 0,
                            "ticks": ""
                          }
                        },
                        "type": "scatterpolar"
                      }
                    ],
                    "scatterpolargl": [
                      {
                        "marker": {
                          "colorbar": {
                            "outlinewidth": 0,
                            "ticks": ""
                          }
                        },
                        "type": "scatterpolargl"
                      }
                    ],
                    "scatterternary": [
                      {
                        "marker": {
                          "colorbar": {
                            "outlinewidth": 0,
                            "ticks": ""
                          }
                        },
                        "type": "scatterternary"
                      }
                    ],
                    "surface": [
                      {
                        "colorbar": {
                          "outlinewidth": 0,
                          "ticks": ""
                        },
                        "colorscale": [
                          [
                            0,
                            "#0d0887"
                          ],
                          [
                            0.1111111111111111,
                            "#46039f"
                          ],
                          [
                            0.2222222222222222,
                            "#7201a8"
                          ],
                          [
                            0.3333333333333333,
                            "#9c179e"
                          ],
                          [
                            0.4444444444444444,
                            "#bd3786"
                          ],
                          [
                            0.5555555555555556,
                            "#d8576b"
                          ],
                          [
                            0.6666666666666666,
                            "#ed7953"
                          ],
                          [
                            0.7777777777777778,
                            "#fb9f3a"
                          ],
                          [
                            0.8888888888888888,
                            "#fdca26"
                          ],
                          [
                            1,
                            "#f0f921"
                          ]
                        ],
                        "type": "surface"
                      }
                    ],
                    "table": [
                      {
                        "cells": {
                          "fill": {
                            "color": "#EBF0F8"
                          },
                          "line": {
                            "color": "white"
                          }
                        },
                        "header": {
                          "fill": {
                            "color": "#C8D4E3"
                          },
                          "line": {
                            "color": "white"
                          }
                        },
                        "type": "table"
                      }
                    ]
                  },
                  "layout": {
                    "annotationdefaults": {
                      "arrowcolor": "#2a3f5f",
                      "arrowhead": 0,
                      "arrowwidth": 1
                    },
                    "autotypenumbers": "strict",
                    "coloraxis": {
                      "colorbar": {
                        "outlinewidth": 0,
                        "ticks": ""
                      }
                    },
                    "colorscale": {
                      "diverging": [
                        [
                          0,
                          "#8e0152"
                        ],
                        [
                          0.1,
                          "#c51b7d"
                        ],
                        [
                          0.2,
                          "#de77ae"
                        ],
                        [
                          0.3,
                          "#f1b6da"
                        ],
                        [
                          0.4,
                          "#fde0ef"
                        ],
                        [
                          0.5,
                          "#f7f7f7"
                        ],
                        [
                          0.6,
                          "#e6f5d0"
                        ],
                        [
                          0.7,
                          "#b8e186"
                        ],
                        [
                          0.8,
                          "#7fbc41"
                        ],
                        [
                          0.9,
                          "#4d9221"
                        ],
                        [
                          1,
                          "#276419"
                        ]
                      ],
                      "sequential": [
                        [
                          0,
                          "#0d0887"
                        ],
                        [
                          0.1111111111111111,
                          "#46039f"
                        ],
                        [
                          0.2222222222222222,
                          "#7201a8"
                        ],
                        [
                          0.3333333333333333,
                          "#9c179e"
                        ],
                        [
                          0.4444444444444444,
                          "#bd3786"
                        ],
                        [
                          0.5555555555555556,
                          "#d8576b"
                        ],
                        [
                          0.6666666666666666,
                          "#ed7953"
                        ],
                        [
                          0.7777777777777778,
                          "#fb9f3a"
                        ],
                        [
                          0.8888888888888888,
                          "#fdca26"
                        ],
                        [
                          1,
                          "#f0f921"
                        ]
                      ],
                      "sequentialminus": [
                        [
                          0,
                          "#0d0887"
                        ],
                        [
                          0.1111111111111111,
                          "#46039f"
                        ],
                        [
                          0.2222222222222222,
                          "#7201a8"
                        ],
                        [
                          0.3333333333333333,
                          "#9c179e"
                        ],
                        [
                          0.4444444444444444,
                          "#bd3786"
                        ],
                        [
                          0.5555555555555556,
                          "#d8576b"
                        ],
                        [
                          0.6666666666666666,
                          "#ed7953"
                        ],
                        [
                          0.7777777777777778,
                          "#fb9f3a"
                        ],
                        [
                          0.8888888888888888,
                          "#fdca26"
                        ],
                        [
                          1,
                          "#f0f921"
                        ]
                      ]
                    },
                    "colorway": [
                      "#636efa",
                      "#EF553B",
                      "#00cc96",
                      "#ab63fa",
                      "#FFA15A",
                      "#19d3f3",
                      "#FF6692",
                      "#B6E880",
                      "#FF97FF",
                      "#FECB52"
                    ],
                    "font": {
                      "color": "#2a3f5f"
                    },
                    "geo": {
                      "bgcolor": "white",
                      "lakecolor": "white",
                      "landcolor": "#E5ECF6",
                      "showlakes": true,
                      "showland": true,
                      "subunitcolor": "white"
                    },
                    "hoverlabel": {
                      "align": "left"
                    },
                    "hovermode": "closest",
                    "mapbox": {
                      "style": "light"
                    },
                    "paper_bgcolor": "white",
                    "plot_bgcolor": "#E5ECF6",
                    "polar": {
                      "angularaxis": {
                        "gridcolor": "white",
                        "linecolor": "white",
                        "ticks": ""
                      },
                      "bgcolor": "#E5ECF6",
                      "radialaxis": {
                        "gridcolor": "white",
                        "linecolor": "white",
                        "ticks": ""
                      }
                    },
                    "scene": {
                      "xaxis": {
                        "backgroundcolor": "#E5ECF6",
                        "gridcolor": "white",
                        "gridwidth": 2,
                        "linecolor": "white",
                        "showbackground": true,
                        "ticks": "",
                        "zerolinecolor": "white"
                      },
                      "yaxis": {
                        "backgroundcolor": "#E5ECF6",
                        "gridcolor": "white",
                        "gridwidth": 2,
                        "linecolor": "white",
                        "showbackground": true,
                        "ticks": "",
                        "zerolinecolor": "white"
                      },
                      "zaxis": {
                        "backgroundcolor": "#E5ECF6",
                        "gridcolor": "white",
                        "gridwidth": 2,
                        "linecolor": "white",
                        "showbackground": true,
                        "ticks": "",
                        "zerolinecolor": "white"
                      }
                    },
                    "shapedefaults": {
                      "line": {
                        "color": "#2a3f5f"
                      }
                    },
                    "ternary": {
                      "aaxis": {
                        "gridcolor": "white",
                        "linecolor": "white",
                        "ticks": ""
                      },
                      "baxis": {
                        "gridcolor": "white",
                        "linecolor": "white",
                        "ticks": ""
                      },
                      "bgcolor": "#E5ECF6",
                      "caxis": {
                        "gridcolor": "white",
                        "linecolor": "white",
                        "ticks": ""
                      }
                    },
                    "title": {
                      "x": 0.05
                    },
                    "xaxis": {
                      "automargin": true,
                      "gridcolor": "white",
                      "linecolor": "white",
                      "ticks": "",
                      "title": {
                        "standoff": 15
                      },
                      "zerolinecolor": "white",
                      "zerolinewidth": 2
                    },
                    "yaxis": {
                      "automargin": true,
                      "gridcolor": "white",
                      "linecolor": "white",
                      "ticks": "",
                      "title": {
                        "standoff": 15
                      },
                      "zerolinecolor": "white",
                      "zerolinewidth": 2
                    }
                  }
                },
                "title": {
                  "text": "Loss Curve: Accuracy (Higher is better)"
                },
                "xaxis": {
                  "anchor": "y",
                  "domain": [
                    0,
                    1
                  ],
                  "range": [
                    1,
                    5
                  ],
                  "title": {
                    "text": "Epoch"
                  }
                },
                "yaxis": {
                  "anchor": "x",
                  "domain": [
                    0,
                    1
                  ],
                  "range": [
                    0,
                    100
                  ],
                  "title": {
                    "text": "Accuracy"
                  }
                }
              }
            }
          },
          "metadata": {},
          "output_type": "display_data"
        }
      ],
      "source": [
        "def plot_summary(df, percentage=True):\n",
        "\tx = df.columns[0]\n",
        "\ty = df.columns[1:]\n",
        "\n",
        "\tif percentage:\n",
        "\t\tdf[y] *= 100\n",
        "\n",
        "\tfig = px.line(\n",
        "\t\tdata_frame=df,\n",
        "\t\tx=x,\n",
        "\t\ty=y,\n",
        "\t\ttitle=\"Loss Curve: Accuracy (Higher is better)\",\n",
        "\t\trange_x=[df[x].values.min(), df[x].values.max()],\n",
        "\t\trange_y=[0, 100 if percentage else 1], # df[y].values.min() * 0.95\n",
        "\t\tmarkers=True,\n",
        "\t)\n",
        "\tfig.update_layout(xaxis_title=\"Epoch\", yaxis_title=\"Accuracy\")\n",
        "\tfig.update_traces(\n",
        "\t\tpatch={\n",
        "\t\t\t\"marker\": {\"size\": 5},\n",
        "\t\t\t\"line\": {\n",
        "\t\t\t\t\"width\": 1,\n",
        "\t\t\t\t# \"dash\": \"dot\"\n",
        "\t\t\t},\n",
        "\t\t}\n",
        "\t)\n",
        "\n",
        "\tfig.show()\n",
        "\n",
        "plot_summary(summary)"
      ]
    },
    {
      "cell_type": "markdown",
      "metadata": {
        "id": "9dIVM6tEFwdd"
      },
      "source": [
        "## Test"
      ]
    },
    {
      "cell_type": "code",
      "execution_count": 1291,
      "metadata": {
        "id": "4kJYGjXymWxQ"
      },
      "outputs": [],
      "source": [
        "def plot_examples(data, plot_count=8, fig_size=(10, 5)):\n",
        "\tx, y = data[:plot_count]\n",
        "\t# x = x.half()\n",
        "\t# y = y.half()\n",
        "\t\n",
        "\tpred = model(x).argmax(axis=1)\n",
        "\tcols = 4\n",
        "\trows = np.ceil(plot_count / cols).astype(int)\n",
        "\n",
        "\tfig, ax = plt.subplots(rows, cols, figsize=fig_size)\n",
        "\tfor i in range(plot_count):\n",
        "\t\tplt.subplot(rows, cols, i + 1)\n",
        "\t\tplt.imshow(x[i])\n",
        "\t\tplt.title(f\"True: {y[i].argmax()}; Pred: {pred[i]}\")\n",
        "\tfig.tight_layout()\n",
        "\tplt.show()\n",
        "\n",
        "# plot_examples(dev)"
      ]
    }
  ],
  "metadata": {
    "colab": {
      "provenance": []
    },
    "kernelspec": {
      "display_name": "Python 3",
      "name": "python3"
    },
    "language_info": {
      "codemirror_mode": {
        "name": "ipython",
        "version": 3
      },
      "file_extension": ".py",
      "mimetype": "text/x-python",
      "name": "python",
      "nbconvert_exporter": "python",
      "pygments_lexer": "ipython3",
      "version": "3.11.4"
    }
  },
  "nbformat": 4,
  "nbformat_minor": 0
}

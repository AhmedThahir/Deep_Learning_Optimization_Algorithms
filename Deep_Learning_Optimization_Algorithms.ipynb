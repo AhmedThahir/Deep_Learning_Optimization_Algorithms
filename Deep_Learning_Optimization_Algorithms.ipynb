{
  "cells": [
    {
      "cell_type": "markdown",
      "metadata": {
        "id": "JGJmy4WfF2Gv"
      },
      "source": [
        "# Import"
      ]
    },
    {
      "cell_type": "code",
      "execution_count": 1,
      "metadata": {
        "id": "1eFy1CA4h0_D"
      },
      "outputs": [],
      "source": [
        "import torch\n",
        "import torch.nn as nn\n",
        "from torch.optim import SGD\n",
        "from torch.utils.data import Dataset, DataLoader, RandomSampler, random_split\n",
        "\n",
        "# import torchvision\n",
        "import numpy as np\n",
        "import pandas as pd\n",
        "import matplotlib.pyplot as plt\n",
        "import plotly.express as px"
      ]
    },
    {
      "cell_type": "markdown",
      "metadata": {
        "id": "Xsz0LVrxF4di"
      },
      "source": [
        "## Import Data"
      ]
    },
    {
      "cell_type": "code",
      "execution_count": 2,
      "metadata": {
        "id": "bkdItIMiiCz2"
      },
      "outputs": [],
      "source": [
        "class CTDataset(Dataset):\n",
        "\tdef __init__(self, filepath):\n",
        "\t\tself.x, self.y = torch.load(filepath)\n",
        "\t\tself.x = self.x / 255.0\n",
        "\t\tself.y = nn.functional.one_hot(self.y, num_classes=10).to(float)\n",
        "\n",
        "\tdef __len__(self):\n",
        "\t\treturn self.x.shape[0]\n",
        "\n",
        "\tdef __getitem__(self, ix):\n",
        "\t\treturn self.x[ix], self.y[ix]"
      ]
    },
    {
      "cell_type": "code",
      "execution_count": 3,
      "metadata": {
        "id": "dN6t_BjqiccL"
      },
      "outputs": [],
      "source": [
        "# https://www.di.ens.fr/~lelarge/MNIST.tar.gz\n",
        "train_ds = CTDataset(\"./MNIST/training.pt\")\n",
        "# test_ds = CTDataset('./MNIST/test.pt')"
      ]
    },
    {
      "cell_type": "code",
      "execution_count": 4,
      "metadata": {},
      "outputs": [],
      "source": [
        "train, dev, valid = random_split(train_ds, [0.6, 0.2, 0.2])"
      ]
    },
    {
      "cell_type": "code",
      "execution_count": 5,
      "metadata": {
        "id": "IpE8pgZtit4e"
      },
      "outputs": [],
      "source": [
        "train_size = min(1_000, len(train)) # Check if model overfits on small data, to ensure DNN actually is effective\n",
        "dev_size = min(1_000, len(dev))\n",
        "\n",
        "min_training_batches = 4\n",
        "train_batch_size = min(32, max(1, train_size // min_training_batches))\n",
        "\n",
        "evaluation_batch_size = min(1_024, dev_size)"
      ]
    },
    {
      "cell_type": "code",
      "execution_count": 6,
      "metadata": {},
      "outputs": [],
      "source": [
        "train_random_sampler = RandomSampler(train, num_samples=train_size)\n",
        "dev_random_sampler = RandomSampler(dev, num_samples=dev_size)\n",
        "\n",
        "train_dl = DataLoader(\n",
        "\ttrain, sampler=train_random_sampler, batch_size=train_batch_size, drop_last=True\n",
        ")\n",
        "\n",
        "dev_dl = DataLoader(\n",
        "\tdev, sampler=dev_random_sampler, batch_size=evaluation_batch_size, drop_last=True\n",
        ")"
      ]
    },
    {
      "cell_type": "markdown",
      "metadata": {
        "id": "IihBqwgWi2Uo"
      },
      "source": [
        "## Train"
      ]
    },
    {
      "cell_type": "code",
      "execution_count": 7,
      "metadata": {},
      "outputs": [],
      "source": [
        "class NeuralNet(nn.Module):\n",
        "\tdef __init__(self, init_dl, hidden_layers):\n",
        "\t\tsuper().__init__()\n",
        "\n",
        "\t\tfor x, y in init_dl:\n",
        "\t\t\tbreak\n",
        "\n",
        "\t\tself.input_size = x.shape[-1]\n",
        "\t\tself.output_size = y.shape[-1]\n",
        "\n",
        "\t\t# input_layer = \n",
        "\t\t\n",
        "\t\t\n",
        "\t\toutput_layer = nn.LazyLinear(self.output_size) # output layer\n",
        "\t\t\n",
        "\t\tlayers = (\n",
        "      \t\t# [input_layer] +\n",
        "\t\t\thidden_layers +\n",
        "\t\t\t[output_layer]\n",
        "\t\t)\n",
        "\n",
        "\t\tself.network = nn.Sequential(\n",
        "\t\t\t*layers\n",
        "\t\t)\n",
        "\n",
        "\t\t# init lazy layers\n",
        "\t\tself.forward(x)\n",
        "\n",
        "\tdef reshape(self, x):\n",
        "\t\t# batch_size, no_of_channels, width, height\n",
        "\t\treturn x.view(x.shape[0], 1, x.shape[1], x.shape[2])\n",
        "\n",
        "\tdef forward(self, x):\n",
        "\t\treturn self.network(self.reshape(x)).squeeze()"
      ]
    },
    {
      "cell_type": "code",
      "execution_count": 8,
      "metadata": {},
      "outputs": [],
      "source": [
        "def get_max_len(arrays):\n",
        "\treturn max(\n",
        "\t\t[\n",
        "\t\t\tlen(array)\n",
        "\t\t\tfor array\n",
        "\t\t\tin arrays\n",
        "\t\t]\n",
        "\t)\n",
        "\n",
        "def pad(array, max_len):\n",
        "\treturn list(np.pad(\n",
        "\t\tarray,\n",
        "\t\tpad_width = (0, max_len-len(array)),\n",
        "\t\tconstant_values = np.nan\n",
        "\t))\n",
        "\n",
        "# @torch.compile(mode=\"reduce-overhead\")\n",
        "def train_batch(model, optimizer, loss, x, y, train_dl_len, batch_idx, accum_iter=1, k_frac=None):\n",
        "\t# x = x.half()\n",
        "\t# y = y.half()\n",
        "\t\n",
        "\tmodel.train()\n",
        "\twith torch.set_grad_enabled(True): # turn on history tracking\n",
        "\t\t# forward pass\n",
        "\t\tproba = model(x)\n",
        "\t\tloss_array = loss(proba, y)\n",
        "\n",
        "\t\tloss_scalar = loss_array.mean()\n",
        "\t\n",
        "\t# backward pass\n",
        "\toptimizer.zero_grad(set_to_none=True)\n",
        "\tloss_scalar.backward()\n",
        "\n",
        "\t# weights update\n",
        "\t# if accum_iter != 1 -> gradient accumulation\n",
        "\tbatch_num = batch_idx + 1\n",
        "\tif (\n",
        "\t\t(batch_num % accum_iter == 0)\n",
        "\t\tor\n",
        "\t\t(batch_num == len(train_dl_len))\n",
        "\t):\n",
        "\t\toptimizer.step()\n",
        "\n",
        "# @torch.compile(mode=\"reduce-overhead\")\n",
        "def train_epoch(dl, model, optimizer, loss, train_dl_len, k_frac=None):\n",
        "\n",
        "\tepoch_accuracies = []\n",
        "\tfor batch_idx, (x, y) in enumerate(dl):\n",
        "\t\ttrain_batch(model, optimizer, loss, x, y, train_dl_len, batch_idx, accum_iter=1, k_frac=k_frac)\n",
        "\t\n",
        "\t\tepoch_accuracies += eval_batch(model, x, y)\n",
        "\n",
        "\treturn epoch_accuracies\n",
        "\n",
        "# @torch.compile(mode=\"reduce-overhead\")\n",
        "def eval_batch(model, x, y):\n",
        "\t# x = x.half()\n",
        "\t# y = y.half()\n",
        "\n",
        "\tmodel.eval()\n",
        "\twith torch.set_grad_enabled(False): # turn off history tracking\n",
        "\t\t# forward pass\n",
        "\t\tproba = model(x)\n",
        "\t\t\n",
        "\t\ttrue = y.argmax(axis=1)\n",
        "\t\tpred = proba.argmax(axis=1)\n",
        "\n",
        "\t\tepoch_accuracy_array = (pred == true) # torch.sum()\n",
        "\n",
        "\t\t# epoch_loss_array = loss_value.detach() # loss_value.item() # batch loss\n",
        "\n",
        "\t\treturn epoch_accuracy_array\n",
        "\n",
        "# @torch.compile(mode=\"reduce-overhead\")\n",
        "def eval_epoch(dl, model):\n",
        "\tepoch_accuracies = []\n",
        "\tfor batch_idx, (x, y) in enumerate(dl):\n",
        "\t\tepoch_accuracies += eval_batch(model, x, y)\n",
        "\n",
        "\treturn epoch_accuracies\n",
        "\n",
        "\n",
        "def train_model(train_dl, dev_dl, model, loss, optimizer, n_epochs, eval_every=5, k_frac=None, agg=[\"mean\"]):\n",
        "\tmodel.train()\n",
        "  \n",
        "\tsummary_list = []\n",
        "  \n",
        "\ttrain_dl_len = len(train_dl)\n",
        "\n",
        "\tfor epoch in range(1, n_epochs + 1):\n",
        "\t\tepoch_train_accuracies = train_epoch(train_dl, model, optimizer, loss, train_dl_len, k_frac)\n",
        "\t\t\n",
        "\t\tif epoch % eval_every == 0:\n",
        "\t\t\tepoch_dev_accuracies = eval_epoch(dev_dl, model)\n",
        "\t\telse:\n",
        "\t\t\tepoch_dev_accuracies = []\n",
        "\t\t\n",
        "\t\tfor e in epoch_train_accuracies:\n",
        "\t\t\tsummary_list.append(\n",
        "\t\t\t\t[epoch, \"Train\", float(e)]\n",
        "\t\t\t)\n",
        "\t\tfor e in epoch_dev_accuracies:\n",
        "\t\t\tsummary_list.append(\n",
        "\t\t\t\t[epoch, \"Dev\", float(e)]\n",
        "\t\t\t)\n",
        "\n",
        "\t\tprint(f\"Epoch {epoch}/{n_epochs} Completed\")\n",
        "\n",
        "\tmodel.eval()\n",
        "\n",
        "\tsummary = (\n",
        "\t \tpd.DataFrame(\n",
        "\t\t\tcolumns = [\"Epoch\", \"Subset\", \"Accuracy\"],\n",
        "\t\t\tdata = summary_list\n",
        "\t\t)\n",
        "\t)\n",
        " \n",
        "\tif agg:\n",
        "\t\tsummary = (\n",
        "\t\t\tsummary\n",
        "\t\t\t.groupby([\"Epoch\", \"Subset\"])\n",
        "\t\t\t.agg([\"mean\"])\n",
        "\t\t)\n",
        "\t\tsummary.columns = list(map('_'.join, summary.columns.values))\n",
        "\t\tsummary = (\n",
        "\t\t\tsummary\n",
        "\t\t\t.reset_index()\n",
        "\t\t\t.pivot(\n",
        "\t\t\t\tindex=\"Epoch\",\n",
        "\t\t\t\tcolumns=\"Subset\",\n",
        "\t\t\t\t# values = \"Accuracy\"\n",
        "\t\t\t)\n",
        "\t\t)\n",
        "\t\tsummary.columns = list(map('_'.join, summary.columns.values))\n",
        "\t\tsummary = summary.reset_index()\n",
        "\treturn summary"
      ]
    },
    {
      "cell_type": "code",
      "execution_count": 9,
      "metadata": {},
      "outputs": [
        {
          "name": "stderr",
          "output_type": "stream",
          "text": [
            "/Users/ahmedthahir/anaconda3/lib/python3.11/site-packages/torch/nn/modules/lazy.py:181: UserWarning: Lazy modules are a new feature under heavy development so changes to the API or functionality can happen at any moment.\n",
            "  warnings.warn('Lazy modules are a new feature under heavy development '\n"
          ]
        }
      ],
      "source": [
        "model = NeuralNet(\n",
        "\ttrain_dl,\n",
        "\thidden_layers = [\n",
        "\t\tnn.Flatten(),\n",
        "\t\tnn.LazyLinear(100),\n",
        "\t\tnn.ReLU(),\n",
        "\t\tnn.LazyLinear(10),\n",
        "\t\tnn.ReLU()\n",
        "\t\t# nn.Sigmoid() not required\n",
        "\t]\n",
        ")\n",
        "# model = model.half()\n",
        "# model = torch.compile(model, mode=\"reduce-overhead\")"
      ]
    },
    {
      "cell_type": "code",
      "execution_count": 10,
      "metadata": {
        "colab": {
          "base_uri": "https://localhost:8080/"
        },
        "id": "E3KjIGK-vui4",
        "outputId": "8f0377b2-7c7d-4145-f46e-0710bcb24631"
      },
      "outputs": [],
      "source": [
        "# optim_class = torch.optim\n",
        "# optim_children = dir(optim_class)\n",
        "# no_of_optimizers = [o.startswith(\"_\") for o in optim_children].index(True)\n",
        "# optimizers = optim_children[:no_of_optimizers]\n",
        "# optimizers = [o for o in optimizers if o != \"Optimizer\"]\n",
        "\n",
        "# for optimizer in optimizers:\n",
        "#     print(getattr(optim_class, optimizer)(model.parameters(), lr=0.01))"
      ]
    },
    {
      "cell_type": "code",
      "execution_count": 11,
      "metadata": {
        "id": "lviatQ8QjDV-"
      },
      "outputs": [],
      "source": [
        "loss = nn.CrossEntropyLoss(reduction=\"none\")"
      ]
    },
    {
      "cell_type": "code",
      "execution_count": 12,
      "metadata": {
        "id": "5TfbZV-3vyT3"
      },
      "outputs": [],
      "source": [
        "# this is our project\n",
        "optimizer = SGD(model.parameters(), lr=0.1)\n",
        "n_epochs = 20 # 3"
      ]
    },
    {
      "cell_type": "code",
      "execution_count": 13,
      "metadata": {
        "id": "j2A-uSGajLO0"
      },
      "outputs": [
        {
          "name": "stdout",
          "output_type": "stream",
          "text": [
            "Epoch 1/20 Completed\n",
            "Epoch 2/20 Completed\n",
            "Epoch 3/20 Completed\n",
            "Epoch 4/20 Completed\n",
            "Epoch 5/20 Completed\n",
            "Epoch 6/20 Completed\n",
            "Epoch 7/20 Completed\n",
            "Epoch 8/20 Completed\n",
            "Epoch 9/20 Completed\n",
            "Epoch 10/20 Completed\n",
            "Epoch 11/20 Completed\n",
            "Epoch 12/20 Completed\n",
            "Epoch 13/20 Completed\n",
            "Epoch 14/20 Completed\n",
            "Epoch 15/20 Completed\n",
            "Epoch 16/20 Completed\n",
            "Epoch 17/20 Completed\n",
            "Epoch 18/20 Completed\n",
            "Epoch 19/20 Completed\n",
            "Epoch 20/20 Completed\n"
          ]
        }
      ],
      "source": [
        "summary = train_model(\n",
        "\ttrain_dl,\n",
        "\tdev_dl,\n",
        "\tmodel,\n",
        "\tloss,\n",
        "\toptimizer,\n",
        "\tn_epochs,\n",
        "\teval_every=5,\n",
        "\tagg = [\"mean\"]\n",
        ")"
      ]
    },
    {
      "cell_type": "code",
      "execution_count": 14,
      "metadata": {
        "id": "w1oYUM9rrzTX"
      },
      "outputs": [
        {
          "data": {
            "application/vnd.plotly.v1+json": {
              "config": {
                "plotlyServerURL": "https://plot.ly"
              },
              "data": [
                {
                  "connectgaps": true,
                  "hovertemplate": "variable=Accuracy_mean_Dev<br>Epoch=%{x}<br>value=%{y}<extra></extra>",
                  "legendgroup": "Accuracy_mean_Dev",
                  "line": {
                    "color": "#636efa",
                    "dash": "solid",
                    "width": 1
                  },
                  "marker": {
                    "size": 5,
                    "symbol": "circle"
                  },
                  "mode": "markers+lines",
                  "name": "Accuracy_mean_Dev",
                  "orientation": "v",
                  "showlegend": true,
                  "type": "scatter",
                  "x": [
                    1,
                    2,
                    3,
                    4,
                    5,
                    6,
                    7,
                    8,
                    9,
                    10,
                    11,
                    12,
                    13,
                    14,
                    15,
                    16,
                    17,
                    18,
                    19,
                    20
                  ],
                  "xaxis": "x",
                  "y": [
                    null,
                    null,
                    null,
                    null,
                    71.8,
                    null,
                    null,
                    null,
                    null,
                    88,
                    null,
                    null,
                    null,
                    null,
                    87.5,
                    null,
                    null,
                    null,
                    null,
                    90.4
                  ],
                  "yaxis": "y"
                },
                {
                  "connectgaps": true,
                  "hovertemplate": "variable=Accuracy_mean_Train<br>Epoch=%{x}<br>value=%{y}<extra></extra>",
                  "legendgroup": "Accuracy_mean_Train",
                  "line": {
                    "color": "#EF553B",
                    "dash": "solid",
                    "width": 1
                  },
                  "marker": {
                    "size": 5,
                    "symbol": "circle"
                  },
                  "mode": "markers+lines",
                  "name": "Accuracy_mean_Train",
                  "orientation": "v",
                  "showlegend": true,
                  "type": "scatter",
                  "x": [
                    1,
                    2,
                    3,
                    4,
                    5,
                    6,
                    7,
                    8,
                    9,
                    10,
                    11,
                    12,
                    13,
                    14,
                    15,
                    16,
                    17,
                    18,
                    19,
                    20
                  ],
                  "xaxis": "x",
                  "y": [
                    18.649193548387096,
                    36.49193548387097,
                    52.016129032258064,
                    71.27016129032258,
                    81.25,
                    86.49193548387096,
                    85.78629032258065,
                    89.91935483870968,
                    91.33064516129032,
                    92.74193548387096,
                    92.84274193548387,
                    93.75,
                    95.06048387096774,
                    94.65725806451613,
                    93.6491935483871,
                    95.76612903225806,
                    94.25403225806451,
                    96.57258064516128,
                    94.05241935483872,
                    94.75806451612904
                  ],
                  "yaxis": "y"
                }
              ],
              "layout": {
                "legend": {
                  "title": {
                    "text": "variable"
                  },
                  "tracegroupgap": 0
                },
                "template": {
                  "data": {
                    "bar": [
                      {
                        "error_x": {
                          "color": "#2a3f5f"
                        },
                        "error_y": {
                          "color": "#2a3f5f"
                        },
                        "marker": {
                          "line": {
                            "color": "#E5ECF6",
                            "width": 0.5
                          },
                          "pattern": {
                            "fillmode": "overlay",
                            "size": 10,
                            "solidity": 0.2
                          }
                        },
                        "type": "bar"
                      }
                    ],
                    "barpolar": [
                      {
                        "marker": {
                          "line": {
                            "color": "#E5ECF6",
                            "width": 0.5
                          },
                          "pattern": {
                            "fillmode": "overlay",
                            "size": 10,
                            "solidity": 0.2
                          }
                        },
                        "type": "barpolar"
                      }
                    ],
                    "carpet": [
                      {
                        "aaxis": {
                          "endlinecolor": "#2a3f5f",
                          "gridcolor": "white",
                          "linecolor": "white",
                          "minorgridcolor": "white",
                          "startlinecolor": "#2a3f5f"
                        },
                        "baxis": {
                          "endlinecolor": "#2a3f5f",
                          "gridcolor": "white",
                          "linecolor": "white",
                          "minorgridcolor": "white",
                          "startlinecolor": "#2a3f5f"
                        },
                        "type": "carpet"
                      }
                    ],
                    "choropleth": [
                      {
                        "colorbar": {
                          "outlinewidth": 0,
                          "ticks": ""
                        },
                        "type": "choropleth"
                      }
                    ],
                    "contour": [
                      {
                        "colorbar": {
                          "outlinewidth": 0,
                          "ticks": ""
                        },
                        "colorscale": [
                          [
                            0,
                            "#0d0887"
                          ],
                          [
                            0.1111111111111111,
                            "#46039f"
                          ],
                          [
                            0.2222222222222222,
                            "#7201a8"
                          ],
                          [
                            0.3333333333333333,
                            "#9c179e"
                          ],
                          [
                            0.4444444444444444,
                            "#bd3786"
                          ],
                          [
                            0.5555555555555556,
                            "#d8576b"
                          ],
                          [
                            0.6666666666666666,
                            "#ed7953"
                          ],
                          [
                            0.7777777777777778,
                            "#fb9f3a"
                          ],
                          [
                            0.8888888888888888,
                            "#fdca26"
                          ],
                          [
                            1,
                            "#f0f921"
                          ]
                        ],
                        "type": "contour"
                      }
                    ],
                    "contourcarpet": [
                      {
                        "colorbar": {
                          "outlinewidth": 0,
                          "ticks": ""
                        },
                        "type": "contourcarpet"
                      }
                    ],
                    "heatmap": [
                      {
                        "colorbar": {
                          "outlinewidth": 0,
                          "ticks": ""
                        },
                        "colorscale": [
                          [
                            0,
                            "#0d0887"
                          ],
                          [
                            0.1111111111111111,
                            "#46039f"
                          ],
                          [
                            0.2222222222222222,
                            "#7201a8"
                          ],
                          [
                            0.3333333333333333,
                            "#9c179e"
                          ],
                          [
                            0.4444444444444444,
                            "#bd3786"
                          ],
                          [
                            0.5555555555555556,
                            "#d8576b"
                          ],
                          [
                            0.6666666666666666,
                            "#ed7953"
                          ],
                          [
                            0.7777777777777778,
                            "#fb9f3a"
                          ],
                          [
                            0.8888888888888888,
                            "#fdca26"
                          ],
                          [
                            1,
                            "#f0f921"
                          ]
                        ],
                        "type": "heatmap"
                      }
                    ],
                    "heatmapgl": [
                      {
                        "colorbar": {
                          "outlinewidth": 0,
                          "ticks": ""
                        },
                        "colorscale": [
                          [
                            0,
                            "#0d0887"
                          ],
                          [
                            0.1111111111111111,
                            "#46039f"
                          ],
                          [
                            0.2222222222222222,
                            "#7201a8"
                          ],
                          [
                            0.3333333333333333,
                            "#9c179e"
                          ],
                          [
                            0.4444444444444444,
                            "#bd3786"
                          ],
                          [
                            0.5555555555555556,
                            "#d8576b"
                          ],
                          [
                            0.6666666666666666,
                            "#ed7953"
                          ],
                          [
                            0.7777777777777778,
                            "#fb9f3a"
                          ],
                          [
                            0.8888888888888888,
                            "#fdca26"
                          ],
                          [
                            1,
                            "#f0f921"
                          ]
                        ],
                        "type": "heatmapgl"
                      }
                    ],
                    "histogram": [
                      {
                        "marker": {
                          "pattern": {
                            "fillmode": "overlay",
                            "size": 10,
                            "solidity": 0.2
                          }
                        },
                        "type": "histogram"
                      }
                    ],
                    "histogram2d": [
                      {
                        "colorbar": {
                          "outlinewidth": 0,
                          "ticks": ""
                        },
                        "colorscale": [
                          [
                            0,
                            "#0d0887"
                          ],
                          [
                            0.1111111111111111,
                            "#46039f"
                          ],
                          [
                            0.2222222222222222,
                            "#7201a8"
                          ],
                          [
                            0.3333333333333333,
                            "#9c179e"
                          ],
                          [
                            0.4444444444444444,
                            "#bd3786"
                          ],
                          [
                            0.5555555555555556,
                            "#d8576b"
                          ],
                          [
                            0.6666666666666666,
                            "#ed7953"
                          ],
                          [
                            0.7777777777777778,
                            "#fb9f3a"
                          ],
                          [
                            0.8888888888888888,
                            "#fdca26"
                          ],
                          [
                            1,
                            "#f0f921"
                          ]
                        ],
                        "type": "histogram2d"
                      }
                    ],
                    "histogram2dcontour": [
                      {
                        "colorbar": {
                          "outlinewidth": 0,
                          "ticks": ""
                        },
                        "colorscale": [
                          [
                            0,
                            "#0d0887"
                          ],
                          [
                            0.1111111111111111,
                            "#46039f"
                          ],
                          [
                            0.2222222222222222,
                            "#7201a8"
                          ],
                          [
                            0.3333333333333333,
                            "#9c179e"
                          ],
                          [
                            0.4444444444444444,
                            "#bd3786"
                          ],
                          [
                            0.5555555555555556,
                            "#d8576b"
                          ],
                          [
                            0.6666666666666666,
                            "#ed7953"
                          ],
                          [
                            0.7777777777777778,
                            "#fb9f3a"
                          ],
                          [
                            0.8888888888888888,
                            "#fdca26"
                          ],
                          [
                            1,
                            "#f0f921"
                          ]
                        ],
                        "type": "histogram2dcontour"
                      }
                    ],
                    "mesh3d": [
                      {
                        "colorbar": {
                          "outlinewidth": 0,
                          "ticks": ""
                        },
                        "type": "mesh3d"
                      }
                    ],
                    "parcoords": [
                      {
                        "line": {
                          "colorbar": {
                            "outlinewidth": 0,
                            "ticks": ""
                          }
                        },
                        "type": "parcoords"
                      }
                    ],
                    "pie": [
                      {
                        "automargin": true,
                        "type": "pie"
                      }
                    ],
                    "scatter": [
                      {
                        "fillpattern": {
                          "fillmode": "overlay",
                          "size": 10,
                          "solidity": 0.2
                        },
                        "type": "scatter"
                      }
                    ],
                    "scatter3d": [
                      {
                        "line": {
                          "colorbar": {
                            "outlinewidth": 0,
                            "ticks": ""
                          }
                        },
                        "marker": {
                          "colorbar": {
                            "outlinewidth": 0,
                            "ticks": ""
                          }
                        },
                        "type": "scatter3d"
                      }
                    ],
                    "scattercarpet": [
                      {
                        "marker": {
                          "colorbar": {
                            "outlinewidth": 0,
                            "ticks": ""
                          }
                        },
                        "type": "scattercarpet"
                      }
                    ],
                    "scattergeo": [
                      {
                        "marker": {
                          "colorbar": {
                            "outlinewidth": 0,
                            "ticks": ""
                          }
                        },
                        "type": "scattergeo"
                      }
                    ],
                    "scattergl": [
                      {
                        "marker": {
                          "colorbar": {
                            "outlinewidth": 0,
                            "ticks": ""
                          }
                        },
                        "type": "scattergl"
                      }
                    ],
                    "scattermapbox": [
                      {
                        "marker": {
                          "colorbar": {
                            "outlinewidth": 0,
                            "ticks": ""
                          }
                        },
                        "type": "scattermapbox"
                      }
                    ],
                    "scatterpolar": [
                      {
                        "marker": {
                          "colorbar": {
                            "outlinewidth": 0,
                            "ticks": ""
                          }
                        },
                        "type": "scatterpolar"
                      }
                    ],
                    "scatterpolargl": [
                      {
                        "marker": {
                          "colorbar": {
                            "outlinewidth": 0,
                            "ticks": ""
                          }
                        },
                        "type": "scatterpolargl"
                      }
                    ],
                    "scatterternary": [
                      {
                        "marker": {
                          "colorbar": {
                            "outlinewidth": 0,
                            "ticks": ""
                          }
                        },
                        "type": "scatterternary"
                      }
                    ],
                    "surface": [
                      {
                        "colorbar": {
                          "outlinewidth": 0,
                          "ticks": ""
                        },
                        "colorscale": [
                          [
                            0,
                            "#0d0887"
                          ],
                          [
                            0.1111111111111111,
                            "#46039f"
                          ],
                          [
                            0.2222222222222222,
                            "#7201a8"
                          ],
                          [
                            0.3333333333333333,
                            "#9c179e"
                          ],
                          [
                            0.4444444444444444,
                            "#bd3786"
                          ],
                          [
                            0.5555555555555556,
                            "#d8576b"
                          ],
                          [
                            0.6666666666666666,
                            "#ed7953"
                          ],
                          [
                            0.7777777777777778,
                            "#fb9f3a"
                          ],
                          [
                            0.8888888888888888,
                            "#fdca26"
                          ],
                          [
                            1,
                            "#f0f921"
                          ]
                        ],
                        "type": "surface"
                      }
                    ],
                    "table": [
                      {
                        "cells": {
                          "fill": {
                            "color": "#EBF0F8"
                          },
                          "line": {
                            "color": "white"
                          }
                        },
                        "header": {
                          "fill": {
                            "color": "#C8D4E3"
                          },
                          "line": {
                            "color": "white"
                          }
                        },
                        "type": "table"
                      }
                    ]
                  },
                  "layout": {
                    "annotationdefaults": {
                      "arrowcolor": "#2a3f5f",
                      "arrowhead": 0,
                      "arrowwidth": 1
                    },
                    "autotypenumbers": "strict",
                    "coloraxis": {
                      "colorbar": {
                        "outlinewidth": 0,
                        "ticks": ""
                      }
                    },
                    "colorscale": {
                      "diverging": [
                        [
                          0,
                          "#8e0152"
                        ],
                        [
                          0.1,
                          "#c51b7d"
                        ],
                        [
                          0.2,
                          "#de77ae"
                        ],
                        [
                          0.3,
                          "#f1b6da"
                        ],
                        [
                          0.4,
                          "#fde0ef"
                        ],
                        [
                          0.5,
                          "#f7f7f7"
                        ],
                        [
                          0.6,
                          "#e6f5d0"
                        ],
                        [
                          0.7,
                          "#b8e186"
                        ],
                        [
                          0.8,
                          "#7fbc41"
                        ],
                        [
                          0.9,
                          "#4d9221"
                        ],
                        [
                          1,
                          "#276419"
                        ]
                      ],
                      "sequential": [
                        [
                          0,
                          "#0d0887"
                        ],
                        [
                          0.1111111111111111,
                          "#46039f"
                        ],
                        [
                          0.2222222222222222,
                          "#7201a8"
                        ],
                        [
                          0.3333333333333333,
                          "#9c179e"
                        ],
                        [
                          0.4444444444444444,
                          "#bd3786"
                        ],
                        [
                          0.5555555555555556,
                          "#d8576b"
                        ],
                        [
                          0.6666666666666666,
                          "#ed7953"
                        ],
                        [
                          0.7777777777777778,
                          "#fb9f3a"
                        ],
                        [
                          0.8888888888888888,
                          "#fdca26"
                        ],
                        [
                          1,
                          "#f0f921"
                        ]
                      ],
                      "sequentialminus": [
                        [
                          0,
                          "#0d0887"
                        ],
                        [
                          0.1111111111111111,
                          "#46039f"
                        ],
                        [
                          0.2222222222222222,
                          "#7201a8"
                        ],
                        [
                          0.3333333333333333,
                          "#9c179e"
                        ],
                        [
                          0.4444444444444444,
                          "#bd3786"
                        ],
                        [
                          0.5555555555555556,
                          "#d8576b"
                        ],
                        [
                          0.6666666666666666,
                          "#ed7953"
                        ],
                        [
                          0.7777777777777778,
                          "#fb9f3a"
                        ],
                        [
                          0.8888888888888888,
                          "#fdca26"
                        ],
                        [
                          1,
                          "#f0f921"
                        ]
                      ]
                    },
                    "colorway": [
                      "#636efa",
                      "#EF553B",
                      "#00cc96",
                      "#ab63fa",
                      "#FFA15A",
                      "#19d3f3",
                      "#FF6692",
                      "#B6E880",
                      "#FF97FF",
                      "#FECB52"
                    ],
                    "font": {
                      "color": "#2a3f5f"
                    },
                    "geo": {
                      "bgcolor": "white",
                      "lakecolor": "white",
                      "landcolor": "#E5ECF6",
                      "showlakes": true,
                      "showland": true,
                      "subunitcolor": "white"
                    },
                    "hoverlabel": {
                      "align": "left"
                    },
                    "hovermode": "closest",
                    "mapbox": {
                      "style": "light"
                    },
                    "paper_bgcolor": "white",
                    "plot_bgcolor": "#E5ECF6",
                    "polar": {
                      "angularaxis": {
                        "gridcolor": "white",
                        "linecolor": "white",
                        "ticks": ""
                      },
                      "bgcolor": "#E5ECF6",
                      "radialaxis": {
                        "gridcolor": "white",
                        "linecolor": "white",
                        "ticks": ""
                      }
                    },
                    "scene": {
                      "xaxis": {
                        "backgroundcolor": "#E5ECF6",
                        "gridcolor": "white",
                        "gridwidth": 2,
                        "linecolor": "white",
                        "showbackground": true,
                        "ticks": "",
                        "zerolinecolor": "white"
                      },
                      "yaxis": {
                        "backgroundcolor": "#E5ECF6",
                        "gridcolor": "white",
                        "gridwidth": 2,
                        "linecolor": "white",
                        "showbackground": true,
                        "ticks": "",
                        "zerolinecolor": "white"
                      },
                      "zaxis": {
                        "backgroundcolor": "#E5ECF6",
                        "gridcolor": "white",
                        "gridwidth": 2,
                        "linecolor": "white",
                        "showbackground": true,
                        "ticks": "",
                        "zerolinecolor": "white"
                      }
                    },
                    "shapedefaults": {
                      "line": {
                        "color": "#2a3f5f"
                      }
                    },
                    "ternary": {
                      "aaxis": {
                        "gridcolor": "white",
                        "linecolor": "white",
                        "ticks": ""
                      },
                      "baxis": {
                        "gridcolor": "white",
                        "linecolor": "white",
                        "ticks": ""
                      },
                      "bgcolor": "#E5ECF6",
                      "caxis": {
                        "gridcolor": "white",
                        "linecolor": "white",
                        "ticks": ""
                      }
                    },
                    "title": {
                      "x": 0.05
                    },
                    "xaxis": {
                      "automargin": true,
                      "gridcolor": "white",
                      "linecolor": "white",
                      "ticks": "",
                      "title": {
                        "standoff": 15
                      },
                      "zerolinecolor": "white",
                      "zerolinewidth": 2
                    },
                    "yaxis": {
                      "automargin": true,
                      "gridcolor": "white",
                      "linecolor": "white",
                      "ticks": "",
                      "title": {
                        "standoff": 15
                      },
                      "zerolinecolor": "white",
                      "zerolinewidth": 2
                    }
                  }
                },
                "title": {
                  "text": "Loss Curve: Accuracy (Higher is better)"
                },
                "xaxis": {
                  "anchor": "y",
                  "domain": [
                    0,
                    1
                  ],
                  "range": [
                    1,
                    20
                  ],
                  "title": {
                    "text": "Epoch"
                  }
                },
                "yaxis": {
                  "anchor": "x",
                  "domain": [
                    0,
                    1
                  ],
                  "range": [
                    0,
                    100
                  ],
                  "title": {
                    "text": "Accuracy"
                  }
                }
              }
            }
          },
          "metadata": {},
          "output_type": "display_data"
        }
      ],
      "source": [
        "def plot_summary(df, percentage=True):\n",
        "\tx = df.columns[0]\n",
        "\ty = df.columns[1:]\n",
        "\n",
        "\tif percentage:\n",
        "\t\tdf[y] *= 100\n",
        "\n",
        "\tfig = px.line(\n",
        "\t\tdata_frame=df,\n",
        "\t\tx=x,\n",
        "\t\ty=y,\n",
        "\t\ttitle=\"Loss Curve: Accuracy (Higher is better)\",\n",
        "\t\trange_x=[df[x].values.min(), df[x].values.max()],\n",
        "\t\trange_y=[0, 100 if percentage else 1], # df[y].values.min() * 0.95\n",
        "\t\tmarkers=True,\n",
        "\t)\n",
        "\tfig.update_layout(xaxis_title=\"Epoch\", yaxis_title=\"Accuracy\")\n",
        "\tfig.update_traces(\n",
        "\t\tpatch={\n",
        "\t\t\t\"marker\": {\"size\": 5},\n",
        "\t\t\t\"line\": {\n",
        "\t\t\t\t\"width\": 1,\n",
        "\t\t\t\t# \"dash\": \"dot\"\n",
        "\t\t\t},\n",
        "\t\t}\n",
        "\t)\n",
        "\tfig.update_traces(connectgaps=True) # required for connecting dev accuracies\n",
        " \n",
        "\tfig.show()\n",
        "\n",
        "plot_summary(summary)"
      ]
    },
    {
      "cell_type": "markdown",
      "metadata": {
        "id": "9dIVM6tEFwdd"
      },
      "source": [
        "## Test"
      ]
    },
    {
      "cell_type": "code",
      "execution_count": 15,
      "metadata": {
        "id": "4kJYGjXymWxQ"
      },
      "outputs": [
        {
          "data": {
            "image/png": "[encoded data removed]",
            "text/plain": [
              "<Figure size 1000x500 with 4 Axes>"
            ]
          },
          "metadata": {},
          "output_type": "display_data"
        }
      ],
      "source": [
        "def plot_examples(data, plot_count=4, fig_size=(10, 5)):\n",
        "\tx, y = data[:plot_count]\n",
        "\t# x = x.half()\n",
        "\t# y = y.half()\n",
        "\t\n",
        "\tpred = model(x).argmax(axis=1)\n",
        "\tcols = 4\n",
        "\trows = np.ceil(plot_count / cols).astype(int)\n",
        "\n",
        "\tfig, ax = plt.subplots(rows, cols, figsize=fig_size)\n",
        "\tfor i in range(plot_count):\n",
        "\t\tplt.subplot(rows, cols, i + 1)\n",
        "\t\tplt.imshow(x[i])\n",
        "\t\tplt.title(f\"True: {y[i].argmax()}; Pred: {pred[i]}\")\n",
        "\tfig.tight_layout()\n",
        "\tplt.show()\n",
        "\n",
        "plot_examples(dev, 4)"
      ]
    }
  ],
  "metadata": {
    "colab": {
      "provenance": []
    },
    "kernelspec": {
      "display_name": "Python 3",
      "name": "python3"
    },
    "language_info": {
      "codemirror_mode": {
        "name": "ipython",
        "version": 3
      },
      "file_extension": ".py",
      "mimetype": "text/x-python",
      "name": "python",
      "nbconvert_exporter": "python",
      "pygments_lexer": "ipython3",
      "version": "3.11.4"
    }
  },
  "nbformat": 4,
  "nbformat_minor": 0
}

{
  "cells": [
    {
      "cell_type": "markdown",
      "metadata": {
        "id": "JGJmy4WfF2Gv"
      },
      "source": [
        "# Import"
      ]
    },
    {
      "cell_type": "code",
      "execution_count": 16,
      "metadata": {
        "id": "1eFy1CA4h0_D"
      },
      "outputs": [],
      "source": [
        "import torch\n",
        "import torch.nn as nn\n",
        "from torch.optim import SGD\n",
        "from torch.utils.data import Dataset, DataLoader, RandomSampler, random_split\n",
        "\n",
        "# import torchvision\n",
        "import numpy as np\n",
        "import pandas as pd\n",
        "import matplotlib.pyplot as plt\n",
        "import plotly.express as px\n",
        "\n",
        "import copy"
      ]
    },
    {
      "cell_type": "markdown",
      "metadata": {
        "id": "Xsz0LVrxF4di"
      },
      "source": [
        "## Import Data"
      ]
    },
    {
      "cell_type": "code",
      "execution_count": 17,
      "metadata": {
        "id": "bkdItIMiiCz2"
      },
      "outputs": [],
      "source": [
        "class CTDataset(Dataset):\n",
        "\tdef __init__(self, filepath):\n",
        "\t\tself.x, self.y = torch.load(filepath)\n",
        "\t\tself.x = self.x / 255.0\n",
        "\t\tself.y = nn.functional.one_hot(self.y, num_classes=10).to(float)\n",
        "\n",
        "\tdef __len__(self):\n",
        "\t\treturn self.x.shape[0]\n",
        "\n",
        "\tdef __getitem__(self, ix):\n",
        "\t\treturn self.x[ix], self.y[ix]"
      ]
    },
    {
      "cell_type": "code",
      "execution_count": 18,
      "metadata": {
        "id": "dN6t_BjqiccL"
      },
      "outputs": [],
      "source": [
        "# https://www.di.ens.fr/~lelarge/MNIST.tar.gz\n",
        "train_ds = CTDataset(\"./MNIST/training.pt\")\n",
        "# test_ds = CTDataset('./MNIST/test.pt')"
      ]
    },
    {
      "cell_type": "code",
      "execution_count": 19,
      "metadata": {},
      "outputs": [],
      "source": [
        "train, dev, valid = random_split(train_ds, [0.6, 0.2, 0.2])"
      ]
    },
    {
      "cell_type": "code",
      "execution_count": 20,
      "metadata": {
        "id": "IpE8pgZtit4e"
      },
      "outputs": [],
      "source": [
        "train_size = min(1_000, len(train)) # Check if model overfits on small data, to ensure DNN actually is effective\n",
        "dev_size = min(1_000, len(dev))\n",
        "\n",
        "min_training_batches = 4\n",
        "train_batch_size = min(32, max(1, train_size // min_training_batches))\n",
        "\n",
        "evaluation_batch_size = min(1_024, dev_size)"
      ]
    },
    {
      "cell_type": "code",
      "execution_count": 21,
      "metadata": {},
      "outputs": [],
      "source": [
        "train_random_sampler = RandomSampler(train, num_samples=train_size)\n",
        "dev_random_sampler = RandomSampler(dev, num_samples=dev_size)\n",
        "\n",
        "train_dl = DataLoader(\n",
        "\ttrain, sampler=train_random_sampler, batch_size=train_batch_size, drop_last=True\n",
        ")\n",
        "\n",
        "dev_dl = DataLoader(\n",
        "\tdev, sampler=dev_random_sampler, batch_size=evaluation_batch_size, drop_last=True\n",
        ")"
      ]
    },
    {
      "cell_type": "markdown",
      "metadata": {
        "id": "IihBqwgWi2Uo"
      },
      "source": [
        "## Train"
      ]
    },
    {
      "cell_type": "code",
      "execution_count": 22,
      "metadata": {},
      "outputs": [],
      "source": [
        "class NeuralNet(nn.Module):\n",
        "\tdef __init__(self, init_dl, hidden_layers):\n",
        "\t\tsuper().__init__()\n",
        "\n",
        "\t\tfor x, y in init_dl:\n",
        "\t\t\tbreak\n",
        "\n",
        "\t\tself.input_size = x.shape[-1]\n",
        "\t\tself.output_size = y.shape[-1]\n",
        "\n",
        "\t\t# input_layer = \n",
        "\t\t\n",
        "\t\t\n",
        "\t\toutput_layer = nn.LazyLinear(self.output_size) # output layer\n",
        "\t\t\n",
        "\t\tlayers = (\n",
        "      \t\t# [input_layer] +\n",
        "\t\t\thidden_layers +\n",
        "\t\t\t[output_layer]\n",
        "\t\t)\n",
        "\n",
        "\t\tself.network = nn.Sequential(\n",
        "\t\t\t*layers\n",
        "\t\t)\n",
        "\n",
        "\t\t# init lazy layers\n",
        "\t\tself.forward(x)\n",
        "\n",
        "\tdef reshape(self, x):\n",
        "\t\t# batch_size, no_of_channels, width, height\n",
        "\t\treturn x.view(x.shape[0], 1, x.shape[1], x.shape[2])\n",
        "\n",
        "\tdef forward(self, x):\n",
        "\t\treturn self.network(self.reshape(x)).squeeze()"
      ]
    },
    {
      "cell_type": "code",
      "execution_count": 23,
      "metadata": {},
      "outputs": [],
      "source": [
        "def get_max_len(arrays):\n",
        "\treturn max(\n",
        "\t\t[\n",
        "\t\t\tlen(array)\n",
        "\t\t\tfor array\n",
        "\t\t\tin arrays\n",
        "\t\t]\n",
        "\t)\n",
        "\n",
        "def pad(array, max_len):\n",
        "\treturn list(np.pad(\n",
        "\t\tarray,\n",
        "\t\tpad_width = (0, max_len-len(array)),\n",
        "\t\tconstant_values = np.nan\n",
        "\t))\n",
        "\n",
        "# @torch.compile(mode=\"reduce-overhead\")\n",
        "def train_batch(model, optimizer, loss, x, y, train_dl_len, batch_idx, accum_iter=1, k_frac=None):\n",
        "\t# x = x.half()\n",
        "\t# y = y.half()\n",
        "\t\n",
        "\tmodel.train()\n",
        "\t# with torch.set_grad_enabled(True): # turn on history tracking\n",
        "\t# forward pass\n",
        "\tproba = model(x)\n",
        "\tloss_array = loss(proba, y)\n",
        "\n",
        "\tloss_scalar = loss_array.mean()\n",
        "\t\n",
        "\t# backward pass\n",
        "\toptimizer.zero_grad(set_to_none=True)\n",
        "\tloss_scalar.backward()\n",
        "\n",
        "\t# weights update\n",
        "\t# if accum_iter != 1 -> gradient accumulation\n",
        "\tbatch_num = batch_idx + 1\n",
        "\tif (\n",
        "\t\t(batch_num % accum_iter == 0)\n",
        "\t\tor\n",
        "\t\t(batch_num == len(train_dl_len))\n",
        "\t):\n",
        "\t\toptimizer.step()\n",
        "\n",
        "# @torch.compile(mode=\"reduce-overhead\")\n",
        "def train_epoch(dl, model, optimizer, loss, train_dl_len, k_frac=None):\n",
        "\n",
        "\t# epoch_accuracies = []\n",
        "\tepoch_losses = []\n",
        "\tfor batch_idx, (x, y) in enumerate(dl):\n",
        "\t\ttrain_batch(model, optimizer, loss, x, y, train_dl_len, batch_idx, accum_iter=1, k_frac=k_frac)\n",
        "\t\n",
        "\t\t# epoch_accuracies += eval_batch(model, x, y)\n",
        "\t\tepoch_losses += eval_batch(model, x, y, loss)\n",
        "\n",
        "\treturn epoch_losses\n",
        "\n",
        "# @torch.compile(mode=\"reduce-overhead\")\n",
        "def eval_batch(model, x, y, loss):\n",
        "\t# x = x.half()\n",
        "\t# y = y.half()\n",
        "\n",
        "\tmodel.eval()\n",
        "\twith torch.inference_mode(): # turn off history tracking\n",
        "\t\t# forward pass\n",
        "\t\tproba = model(x)\n",
        "\t\t\n",
        "\t\tloss_value = loss(proba, y)\n",
        "\t\tepoch_loss_array = loss_value.detach() # loss_value.item() # batch loss\n",
        "\n",
        "\t\t# true = y.argmax(axis=1)\n",
        "\t\t# pred = proba.argmax(axis=1)\n",
        "\t\t# epoch_accuracy_array = (pred == true) # torch.sum()\n",
        "\n",
        "\n",
        "\t\treturn epoch_loss_array\n",
        "\n",
        "# @torch.compile(mode=\"reduce-overhead\")\n",
        "def eval_epoch(dl, model, loss):\n",
        "\t# epoch_accuracies = []\n",
        "\tepoch_losses = []\n",
        "\tfor batch_idx, (x, y) in enumerate(dl):\n",
        "\t\tepoch_losses += eval_batch(model, x, y, loss)\n",
        "\n",
        "\treturn epoch_losses\n",
        "\n",
        "\n",
        "def train_model(train_dl, dev_dl, model, loss, optimizer, n_epochs, eval_every=5, k_frac=None, agg=[\"mean\"], log=False):\n",
        "\tmodel.train()\n",
        "  \n",
        "\tsummary_list = []\n",
        "  \n",
        "\ttrain_dl_len = len(train_dl)\n",
        "\n",
        "\tfor epoch in range(1, n_epochs + 1):\n",
        "\t\tepoch_train_losses = train_epoch(train_dl, model, optimizer, loss, train_dl_len, k_frac)\n",
        "\t\t\n",
        "\t\tif epoch % eval_every == 0 or epoch == 1:\n",
        "\t\t\tepoch_dev_losses = eval_epoch(dev_dl, model, loss)\n",
        "\t\telse:\n",
        "\t\t\tepoch_dev_losses = []\n",
        "\t\t\n",
        "\t\tfor e in epoch_train_losses:\n",
        "\t\t\tsummary_list.append(\n",
        "\t\t\t\t[epoch, \"Train\", float(e)]\n",
        "\t\t\t)\n",
        "\t\tfor e in epoch_dev_losses:\n",
        "\t\t\tsummary_list.append(\n",
        "\t\t\t\t[epoch, \"Dev\", float(e)]\n",
        "\t\t\t)\n",
        "\n",
        "\t\tif log:\n",
        "\t\t\tprint(f\"Epoch {epoch}/{n_epochs} Completed\")\n",
        "\n",
        "\tmodel.eval()\n",
        "\n",
        "\tsummary = (\n",
        "\t \tpd.DataFrame(\n",
        "\t\t\tcolumns = [\"Epoch\", \"Subset\", \"Loss\"],\n",
        "\t\t\tdata = summary_list\n",
        "\t\t)\n",
        "\t)\n",
        "\treturn summary"
      ]
    },
    {
      "cell_type": "code",
      "execution_count": 24,
      "metadata": {
        "colab": {
          "base_uri": "https://localhost:8080/"
        },
        "id": "E3KjIGK-vui4",
        "outputId": "8f0377b2-7c7d-4145-f46e-0710bcb24631"
      },
      "outputs": [],
      "source": [
        "optim_class = torch.optim\n",
        "# optim_children = dir(optim_class)\n",
        "# no_of_optimizers = [o.startswith(\"_\") for o in optim_children].index(True)\n",
        "# optimizer_names = [o for o in optim_children[:no_of_optimizers] if o not in [\"Optimizer\", \"LB\"]]\n",
        "\n",
        "optimizer_names = [\n",
        "    'ASGD',\n",
        "    'Adadelta',\n",
        "    'Adagrad',\n",
        "    'Adam',\n",
        "    'AdamW',\n",
        "    'Adamax',\n",
        "    # 'LBFGS',\n",
        "    'NAdam',\n",
        "    'RAdam',\n",
        "    'RMSprop',\n",
        "    'Rprop',\n",
        "    'SGD',\n",
        "    'SparseAdam'\n",
        "]"
      ]
    },
    {
      "cell_type": "code",
      "execution_count": 25,
      "metadata": {},
      "outputs": [
        {
          "data": {
            "text/plain": [
              "['ASGD']"
            ]
          },
          "execution_count": 25,
          "metadata": {},
          "output_type": "execute_result"
        }
      ],
      "source": [
        "optimizer_names"
      ]
    },
    {
      "cell_type": "code",
      "execution_count": 26,
      "metadata": {},
      "outputs": [],
      "source": [
        "def train_models(loss, model, n_epochs, optimizer_names, learning_rates, train_size):\n",
        "\tsummaries = pd.DataFrame()\n",
        "\t# i=0\n",
        "\t\n",
        "\tfor learning_rate in learning_rates:\n",
        "\t\tfor optimizer_name in optimizer_names:\n",
        "\t\t\tmodel_copy = copy.deepcopy(model)\n",
        "\t\t\toptimizer = getattr(optim_class, optimizer_name)(model_copy.parameters(), lr=learning_rate)\n",
        "\t\t\t\n",
        "\t\t\tsummary = train_model(\n",
        "\t\t\t\ttrain_dl,\n",
        "\t\t\t\tdev_dl,\n",
        "\t\t\t\tmodel_copy,\n",
        "\t\t\t\tloss,\n",
        "\t\t\t\toptimizer,\n",
        "\t\t\t\tn_epochs,\n",
        "\t\t\t\teval_every=10,\n",
        "\t\t\t\tagg = [\"mean\"]\n",
        "\t\t\t)\n",
        "\t\t\tsummary[\"Model\"] = model_copy\n",
        "\t\t\tsummary[\"Optimizer\"] = optimizer_name\n",
        "\t\t\tsummary[\"Learning_Rate\"] = learning_rate\n",
        "\t\t\tsummary[\"Train_Size\"] = train_size\n",
        "\n",
        "\t\t\tsummaries = pd.concat([\n",
        "\t\t\t\tsummaries,\n",
        "\t\t\t\tsummary\n",
        "\t\t\t])\n",
        "\n",
        "\t\t\t# i += 1\n",
        "\t\t\t# if i==2:\n",
        "\t\t\t# \tbreak\n",
        "\t\n",
        "\treturn summaries"
      ]
    },
    {
      "cell_type": "code",
      "execution_count": 27,
      "metadata": {},
      "outputs": [
        {
          "name": "stderr",
          "output_type": "stream",
          "text": [
            "/Users/ahmedthahir/anaconda3/lib/python3.11/site-packages/torch/nn/modules/lazy.py:181: UserWarning: Lazy modules are a new feature under heavy development so changes to the API or functionality can happen at any moment.\n",
            "  warnings.warn('Lazy modules are a new feature under heavy development '\n"
          ]
        }
      ],
      "source": [
        "summaries = train_models(\n",
        "    loss = nn.CrossEntropyLoss(reduction=\"none\"),\n",
        "\tmodel = NeuralNet(\n",
        "\t\ttrain_dl,\n",
        "\t\thidden_layers = [\n",
        "\t\t\tnn.Flatten(),\n",
        "\t\t\tnn.LazyLinear(100),\n",
        "\t\t\tnn.ReLU(),\n",
        "\t\t\tnn.LazyLinear(10),\n",
        "\t\t\tnn.ReLU()\n",
        "\t\t\t# nn.Sigmoid() not required\n",
        "\t\t]\n",
        "\t),\n",
        "\tn_epochs = 100, # 3\n",
        "\toptimizer_names = optimizer_names,\n",
        " \tlearning_rates = [\n",
        "      0.01, 0.1, 1\n",
        "    ],\n",
        "\ttrain_size = train_size\n",
        ")"
      ]
    },
    {
      "cell_type": "code",
      "execution_count": 28,
      "metadata": {},
      "outputs": [],
      "source": [
        "import os\n",
        "output_path = \"summary.csv\"\n",
        "summaries.to_csv(\n",
        "    output_path,\n",
        "    index = False,\n",
        "    mode = \"a\",\n",
        "    header = not os.path.exists(output_path)\n",
        ")"
      ]
    }
  ],
  "metadata": {
    "colab": {
      "provenance": []
    },
    "kernelspec": {
      "display_name": "Python 3",
      "name": "python3"
    },
    "language_info": {
      "codemirror_mode": {
        "name": "ipython",
        "version": 3
      },
      "file_extension": ".py",
      "mimetype": "text/x-python",
      "name": "python",
      "nbconvert_exporter": "python",
      "pygments_lexer": "ipython3",
      "version": "3.11.4"
    }
  },
  "nbformat": 4,
  "nbformat_minor": 0
}
